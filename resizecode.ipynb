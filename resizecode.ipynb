{
 "cells": [
  {
   "cell_type": "code",
   "execution_count": 6,
   "id": "d1dc733c",
   "metadata": {},
   "outputs": [
    {
     "data": {
      "text/plain": [
       "('attachment/ub_logo.png',\n",
       " 'attachment/drone_logo_resized.png',\n",
       " 'attachment/volvo_logo_resized.png')"
      ]
     },
     "execution_count": 6,
     "metadata": {},
     "output_type": "execute_result"
    }
   ],
   "source": [
    "from PIL import Image\n",
    "import numpy\n",
    "\n",
    "# Load images\n",
    "drone_path = \"attachment/drone_logo.png\"\n",
    "ub_path = \"attachment/ub_logo.png\"\n",
    "volvo_path = \"attachment/volvo_logo.png\"\n",
    "code_path = \"attachment/code_logo.png\"\n",
    "\n",
    "# Open images\n",
    "drone_img = Image.open(drone_path)\n",
    "ub_img = Image.open(ub_path)\n",
    "volvo_img = Image.open(volvo_path)\n",
    "code_img = Image.open(code_path)\n",
    "\n",
    "# Get size of the UB logo as the reference\n",
    "ub_size = ub_img.size\n",
    "\n",
    "# Resize other logos to match UB logo's size\n",
    "drone_resized = drone_img.resize(ub_size, Image.LANCZOS)\n",
    "volvo_resized = volvo_img.resize(ub_size, Image.LANCZOS)\n",
    "code_resized = code_img.resize(ub_size, Image.LANCZOS)\n",
    "\n",
    "# Save resized images\n",
    "drone_resized_path = \"attachment/drone_logo_resized.png\"\n",
    "volvo_resized_path = \"attachment/volvo_logo_resized.png\"\n",
    "code_resized_path = \"attachment/code_logo_resized.png\"\n",
    "\n",
    "drone_resized.save(drone_resized_path)\n",
    "volvo_resized.save(volvo_resized_path)\n",
    "code_resized.save(code_resized_path)\n",
    "\n",
    "ub_path, drone_resized_path, volvo_resized_path"
   ]
  }
 ],
 "metadata": {
  "kernelspec": {
   "display_name": "Python 3",
   "language": "python",
   "name": "python3"
  },
  "language_info": {
   "codemirror_mode": {
    "name": "ipython",
    "version": 3
   },
   "file_extension": ".py",
   "mimetype": "text/x-python",
   "name": "python",
   "nbconvert_exporter": "python",
   "pygments_lexer": "ipython3",
   "version": "3.13.2"
  }
 },
 "nbformat": 4,
 "nbformat_minor": 5
}
